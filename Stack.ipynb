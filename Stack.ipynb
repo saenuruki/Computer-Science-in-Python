{
  "nbformat": 4,
  "nbformat_minor": 0,
  "metadata": {
    "colab": {
      "name": "Stack.ipynb",
      "provenance": [],
      "authorship_tag": "ABX9TyM+4pyVmUKJh4su6muIF0+g",
      "include_colab_link": true
    },
    "kernelspec": {
      "name": "python3",
      "display_name": "Python 3"
    }
  },
  "cells": [
    {
      "cell_type": "markdown",
      "metadata": {
        "id": "view-in-github",
        "colab_type": "text"
      },
      "source": [
        "<a href=\"https://colab.research.google.com/github/saenuruki/Computer-Science-in-Python/blob/master/Stack.ipynb\" target=\"_parent\"><img src=\"https://colab.research.google.com/assets/colab-badge.svg\" alt=\"Open In Colab\"/></a>"
      ]
    },
    {
      "cell_type": "markdown",
      "metadata": {
        "id": "8Pe4z7YgCY9c",
        "colab_type": "text"
      },
      "source": [
        "# Stack Data Structure"
      ]
    },
    {
      "cell_type": "code",
      "metadata": {
        "id": "uCupQr3bCOqV",
        "colab_type": "code",
        "colab": {
          "base_uri": "https://localhost:8080/",
          "height": 119
        },
        "outputId": "a8c29adc-de47-4231-aef4-1b112dc23bdd"
      },
      "source": [
        "class Stack():\n",
        "  def __init__(self):\n",
        "    self.items = []\n",
        "  \n",
        "  def push(self, item):\n",
        "    self.items.append(item)\n",
        "\n",
        "  def pop(self):\n",
        "    return self.items.pop()\n",
        "\n",
        "  def is_empty(self):\n",
        "    return self.items == []\n",
        "\n",
        "  def peek(self):\n",
        "    if not self.is_empty():\n",
        "      return self.items[-1]\n",
        "\n",
        "  def get_stack(self):\n",
        "    return self.items\n",
        "\n",
        "s = Stack()\n",
        "print(s.is_empty())\n",
        "s.push(\"A\") \n",
        "s.push(\"B\")\n",
        "print(s.get_stack())\n",
        "s.push(\"C\")\n",
        "print(s.get_stack())\n",
        "s.pop()\n",
        "print(s.get_stack())\n",
        "print(s.is_empty())\n",
        "print(s.peek())"
      ],
      "execution_count": 6,
      "outputs": [
        {
          "output_type": "stream",
          "text": [
            "True\n",
            "['A', 'B']\n",
            "['A', 'B', 'C']\n",
            "['A', 'B']\n",
            "False\n",
            "B\n"
          ],
          "name": "stdout"
        }
      ]
    },
    {
      "cell_type": "markdown",
      "metadata": {
        "id": "A_6aPv3SOXm3",
        "colab_type": "text"
      },
      "source": [
        "# Use a stack to check whether or not a string has balanced usage of parenthesis.\n",
        "\n",
        "### Example:\n",
        "  (), ()(), ((({[]})) <- **Balanced.**\n",
        "\n",
        "  {{), {{{)}], [][]]  <- **Not-Balanced.**\n",
        "\n",
        "  **Balanced:** {[]}\n",
        "\n",
        "  **Not-Balanced:** (()\n",
        "\n",
        "  **Not-Balanced:** ))"
      ]
    },
    {
      "cell_type": "code",
      "metadata": {
        "id": "Dv8ZttfdJkLW",
        "colab_type": "code",
        "colab": {
          "base_uri": "https://localhost:8080/",
          "height": 68
        },
        "outputId": "72837a2c-a126-42d8-b14f-159b51cf16bc"
      },
      "source": [
        "def is_match(p1, p2):\n",
        "  if p1 == \"(\" and p2 == \")\":\n",
        "    return True\n",
        "  if p1 == \"[\" and p2 == \"]\":\n",
        "    return True\n",
        "  if p1 == \"{\" and p2 == \"}\":\n",
        "    return True\n",
        "  else:\n",
        "    return False\n",
        "\n",
        "def is_paren_balanced(paren_string):\n",
        "  s = Stack()\n",
        "  is_balanced = True\n",
        "  index = 0\n",
        "  while index < len(paren_string) and is_balanced:\n",
        "    paren = paren_string[index]\n",
        "    if paren in \"([{\":\n",
        "      s.push(paren)\n",
        "    else:\n",
        "      if s.is_empty():\n",
        "        is_balanced = False\n",
        "      else:\n",
        "        top = s.pop()\n",
        "        if not is_match(top, paren):\n",
        "          is_balanced = False\n",
        "    index += 1\n",
        "  if s.is_empty() and is_balanced:\n",
        "    return True\n",
        "  else:\n",
        "    return False\n",
        "\n",
        "print(is_paren_balanced(\"()\"))\n",
        "print(is_paren_balanced(\"({([]), ()})\"))\n",
        "print(is_paren_balanced(\"(),{})\"))\n"
      ],
      "execution_count": 11,
      "outputs": [
        {
          "output_type": "stream",
          "text": [
            "True\n",
            "False\n",
            "False\n"
          ],
          "name": "stdout"
        }
      ]
    },
    {
      "cell_type": "markdown",
      "metadata": {
        "id": "uNPTkA2NRuU-",
        "colab_type": "text"
      },
      "source": [
        "# Use a stack data structure to convert integer values to binary\n",
        "\n",
        "Example: 242\n",
        "\n",
        "242 / 2 = 121 -> 0\n",
        "\n",
        "121 / 2 = 60  -> 1\n",
        "\n",
        "60 / 2 = 30   -> 0\n",
        "\n",
        "30 / 2 = 15   -> 0\n",
        "\n",
        "15 / 2 = 7    -> 1\n",
        "\n",
        "7 / 2 = 3     -> 1\n",
        "\n",
        "3 / 2 = 1     -> 1\n",
        "\n",
        "1 / 2 = 0     -> 1"
      ]
    },
    {
      "cell_type": "code",
      "metadata": {
        "id": "L-FWZic2Rvq9",
        "colab_type": "code",
        "colab": {
          "base_uri": "https://localhost:8080/",
          "height": 34
        },
        "outputId": "06c86215-2ac6-492b-8e78-ffb839cfbfd3"
      },
      "source": [
        "def div_by_2(dec_num):\n",
        "  s = Stack()\n",
        "\n",
        "  while dec_num > 0:\n",
        "    remainder = dec_num % 2\n",
        "    s.push(remainder)\n",
        "    dec_num = dec_num // 2\n",
        "\n",
        "  bin_num = \"\"\n",
        "  while not s.is_empty():\n",
        "    bin_num += str(s.pop())\n",
        "\n",
        "  return bin_num\n",
        "\n",
        "print(div_by_2(242))"
      ],
      "execution_count": 13,
      "outputs": [
        {
          "output_type": "stream",
          "text": [
            "11110010\n"
          ],
          "name": "stdout"
        }
      ]
    },
    {
      "cell_type": "markdown",
      "metadata": {
        "id": "SKK_2zo2q0jb",
        "colab_type": "text"
      },
      "source": [
        "# Bloom Filters\n",
        "\n",
        "\"Lightweight\" version of a hash table. Efficient insertions and lookups.\n",
        "\n",
        "More space efficient than hash table, but this comes at the cost of having \"false positives\" for entry lookup.\n"
      ]
    },
    {
      "cell_type": "code",
      "metadata": {
        "id": "MT24Lv7Pq08M",
        "colab_type": "code",
        "colab": {
          "base_uri": "https://localhost:8080/",
          "height": 187
        },
        "outputId": "1726ec51-625b-4874-9be3-b89662372b21"
      },
      "source": [
        "!pip install pyhash\n",
        "import pyhash\n"
      ],
      "execution_count": 16,
      "outputs": [
        {
          "output_type": "stream",
          "text": [
            "Collecting pyhash\n",
            "\u001b[?25l  Downloading https://files.pythonhosted.org/packages/f0/bf/4db9bed05d10824a17697f65063de19892ca2171a31a9c6854f9bbf55c02/pyhash-0.9.3.tar.gz (602kB)\n",
            "\u001b[K     |████████████████████████████████| 604kB 3.2MB/s \n",
            "\u001b[?25hBuilding wheels for collected packages: pyhash\n",
            "  Building wheel for pyhash (setup.py) ... \u001b[?25l\u001b[?25hdone\n",
            "  Created wheel for pyhash: filename=pyhash-0.9.3-cp36-cp36m-linux_x86_64.whl size=2209622 sha256=d0c59c157524daede6c0831d07f73754f065320e008ccf08feb38fe33a1e3fc4\n",
            "  Stored in directory: /root/.cache/pip/wheels/0b/6d/31/936fd0c841c52f7afcb77290e2de18fd04d88325853787b36e\n",
            "Successfully built pyhash\n",
            "Installing collected packages: pyhash\n",
            "Successfully installed pyhash-0.9.3\n"
          ],
          "name": "stdout"
        }
      ]
    },
    {
      "cell_type": "code",
      "metadata": {
        "id": "wYQQId5otN3f",
        "colab_type": "code",
        "colab": {
          "base_uri": "https://localhost:8080/",
          "height": 136
        },
        "outputId": "7ee86e7e-a5f7-475e-8b8a-2a3c7e1a57c5"
      },
      "source": [
        "bit_vector = [0] * 20\n",
        "# Non cryptographic hash functions\n",
        "fnv = pyhash.fnv1_32()\n",
        "murmur = pyhash.murmur3_32()\n",
        "\n",
        "# Calculate the output of FNW and Murmur hash funcitons for Pikachu and Charmander\n",
        "fnv_pika = fnv(\"Pikachu\") % 20\n",
        "fnv_char = fnv(\"Charmander\") % 20\n",
        "murmur_pika = murmur(\"Pikachu\") % 20\n",
        "murmur_char = murmur(\"Charmander\") % 20\n",
        "\n",
        "bit_vector[fnv_pika] = 1\n",
        "bit_vector[fnv_char] = 1\n",
        "bit_vector[murmur_pika] = 1\n",
        "bit_vector[murmur_char] = 1\n",
        "\n",
        "# A wild Bulbasaur appears!\n",
        "fnv_bulb = fnv(\"Bulbasaur\") % 20\n",
        "murmur_bulb = murmur(\"Bulbasaur\") % 20\n",
        "\n",
        "print(fnv_pika)\n",
        "print(fnv_char)\n",
        "print(murmur_pika)\n",
        "print(murmur_char)\n",
        "print(bit_vector)\n",
        "print(fnv_bulb)\n",
        "print(murmur_bulb)"
      ],
      "execution_count": 21,
      "outputs": [
        {
          "output_type": "stream",
          "text": [
            "19\n",
            "3\n",
            "15\n",
            "6\n",
            "[0, 0, 0, 1, 0, 0, 1, 0, 0, 0, 0, 0, 0, 0, 0, 1, 0, 0, 0, 1]\n",
            "3\n",
            "6\n"
          ],
          "name": "stdout"
        }
      ]
    }
  ]
}