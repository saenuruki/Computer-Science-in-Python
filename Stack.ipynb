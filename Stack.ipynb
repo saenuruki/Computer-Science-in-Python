{
  "nbformat": 4,
  "nbformat_minor": 0,
  "metadata": {
    "colab": {
      "name": "Stack.ipynb",
      "provenance": [],
      "authorship_tag": "ABX9TyNa+xY9wyAQVRjw2aTdYdhq",
      "include_colab_link": true
    },
    "kernelspec": {
      "name": "python3",
      "display_name": "Python 3"
    }
  },
  "cells": [
    {
      "cell_type": "markdown",
      "metadata": {
        "id": "view-in-github",
        "colab_type": "text"
      },
      "source": [
        "<a href=\"https://colab.research.google.com/github/saenuruki/Computer-Science-in-Python/blob/master/Stack.ipynb\" target=\"_parent\"><img src=\"https://colab.research.google.com/assets/colab-badge.svg\" alt=\"Open In Colab\"/></a>"
      ]
    },
    {
      "cell_type": "markdown",
      "metadata": {
        "id": "8Pe4z7YgCY9c",
        "colab_type": "text"
      },
      "source": [
        "# Stack Data Structure"
      ]
    },
    {
      "cell_type": "code",
      "metadata": {
        "id": "uCupQr3bCOqV",
        "colab_type": "code",
        "colab": {
          "base_uri": "https://localhost:8080/",
          "height": 119
        },
        "outputId": "a8c29adc-de47-4231-aef4-1b112dc23bdd"
      },
      "source": [
        "class Stack():\n",
        "  def __init__(self):\n",
        "    self.items = []\n",
        "  \n",
        "  def push(self, item):\n",
        "    self.items.append(item)\n",
        "\n",
        "  def pop(self):\n",
        "    return self.items.pop()\n",
        "\n",
        "  def is_empty(self):\n",
        "    return self.items == []\n",
        "\n",
        "  def peek(self):\n",
        "    if not self.is_empty():\n",
        "      return self.items[-1]\n",
        "\n",
        "  def get_stack(self):\n",
        "    return self.items\n",
        "\n",
        "s = Stack()\n",
        "print(s.is_empty())\n",
        "s.push(\"A\") \n",
        "s.push(\"B\")\n",
        "print(s.get_stack())\n",
        "s.push(\"C\")\n",
        "print(s.get_stack())\n",
        "s.pop()\n",
        "print(s.get_stack())\n",
        "print(s.is_empty())\n",
        "print(s.peek())"
      ],
      "execution_count": 6,
      "outputs": [
        {
          "output_type": "stream",
          "text": [
            "True\n",
            "['A', 'B']\n",
            "['A', 'B', 'C']\n",
            "['A', 'B']\n",
            "False\n",
            "B\n"
          ],
          "name": "stdout"
        }
      ]
    },
    {
      "cell_type": "markdown",
      "metadata": {
        "id": "A_6aPv3SOXm3",
        "colab_type": "text"
      },
      "source": [
        "# Use a stack to check whether or not a string has balanced usage of parenthesis.\n",
        "\n",
        "### Example:\n",
        "  (), ()(), ((({[]})) <- **Balanced.**\n",
        "\n",
        "  {{), {{{)}], [][]]  <- **Not-Balanced.**\n",
        "\n",
        "  **Balanced:** {[]}\n",
        "\n",
        "  **Not-Balanced:** (()\n",
        "\n",
        "  **Not-Balanced:** ))"
      ]
    },
    {
      "cell_type": "code",
      "metadata": {
        "id": "Dv8ZttfdJkLW",
        "colab_type": "code",
        "colab": {
          "base_uri": "https://localhost:8080/",
          "height": 68
        },
        "outputId": "72837a2c-a126-42d8-b14f-159b51cf16bc"
      },
      "source": [
        "def is_match(p1, p2):\n",
        "  if p1 == \"(\" and p2 == \")\":\n",
        "    return True\n",
        "  if p1 == \"[\" and p2 == \"]\":\n",
        "    return True\n",
        "  if p1 == \"{\" and p2 == \"}\":\n",
        "    return True\n",
        "  else:\n",
        "    return False\n",
        "\n",
        "def is_paren_balanced(paren_string):\n",
        "  s = Stack()\n",
        "  is_balanced = True\n",
        "  index = 0\n",
        "  while index < len(paren_string) and is_balanced:\n",
        "    paren = paren_string[index]\n",
        "    if paren in \"([{\":\n",
        "      s.push(paren)\n",
        "    else:\n",
        "      if s.is_empty():\n",
        "        is_balanced = False\n",
        "      else:\n",
        "        top = s.pop()\n",
        "        if not is_match(top, paren):\n",
        "          is_balanced = False\n",
        "    index += 1\n",
        "  if s.is_empty() and is_balanced:\n",
        "    return True\n",
        "  else:\n",
        "    return False\n",
        "\n",
        "print(is_paren_balanced(\"()\"))\n",
        "print(is_paren_balanced(\"({([]), ()})\"))\n",
        "print(is_paren_balanced(\"(),{})\"))\n"
      ],
      "execution_count": 11,
      "outputs": [
        {
          "output_type": "stream",
          "text": [
            "True\n",
            "False\n",
            "False\n"
          ],
          "name": "stdout"
        }
      ]
    },
    {
      "cell_type": "markdown",
      "metadata": {
        "id": "uNPTkA2NRuU-",
        "colab_type": "text"
      },
      "source": [
        "# Use a stack data structure to convert integer values to binary\n",
        "\n",
        "Example: 242\n",
        "\n",
        "242 / 2 = 121 -> 0\n",
        "\n",
        "121 / 2 = 60  -> 1\n",
        "\n",
        "60 / 2 = 30   -> 0\n",
        "\n",
        "30 / 2 = 15   -> 0\n",
        "\n",
        "15 / 2 = 7    -> 1\n",
        "\n",
        "7 / 2 = 3     -> 1\n",
        "\n",
        "3 / 2 = 1     -> 1\n",
        "\n",
        "1 / 2 = 0     -> 1"
      ]
    },
    {
      "cell_type": "code",
      "metadata": {
        "id": "L-FWZic2Rvq9",
        "colab_type": "code",
        "colab": {
          "base_uri": "https://localhost:8080/",
          "height": 34
        },
        "outputId": "06c86215-2ac6-492b-8e78-ffb839cfbfd3"
      },
      "source": [
        "def div_by_2(dec_num):\n",
        "  s = Stack()\n",
        "\n",
        "  while dec_num > 0:\n",
        "    remainder = dec_num % 2\n",
        "    s.push(remainder)\n",
        "    dec_num = dec_num // 2\n",
        "\n",
        "  bin_num = \"\"\n",
        "  while not s.is_empty():\n",
        "    bin_num += str(s.pop())\n",
        "\n",
        "  return bin_num\n",
        "\n",
        "print(div_by_2(242))"
      ],
      "execution_count": 13,
      "outputs": [
        {
          "output_type": "stream",
          "text": [
            "11110010\n"
          ],
          "name": "stdout"
        }
      ]
    }
  ]
}